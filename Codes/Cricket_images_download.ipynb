{
 "cells": [
  {
   "cell_type": "code",
   "execution_count": 2,
   "metadata": {},
   "outputs": [],
   "source": [
    "import os"
   ]
  },
  {
   "cell_type": "code",
   "execution_count": 3,
   "metadata": {},
   "outputs": [],
   "source": [
    "os.chdir(r'C:\\Users\\somep\\Desktop\\Self Learning\\Deep_learning_project\\Cricket_shot_data')"
   ]
  },
  {
   "cell_type": "code",
   "execution_count": 13,
   "metadata": {},
   "outputs": [
    {
     "data": {
      "text/plain": [
       "'C:\\\\Users\\\\somep\\\\Desktop\\\\Self Learning\\\\Deep_learning_project\\\\Cricket_shot_data'"
      ]
     },
     "execution_count": 13,
     "metadata": {},
     "output_type": "execute_result"
    }
   ],
   "source": [
    "pwd"
   ]
  },
  {
   "cell_type": "code",
   "execution_count": 14,
   "metadata": {},
   "outputs": [
    {
     "name": "stdout",
     "output_type": "stream",
     "text": [
      "Straight Drive\n",
      "\n",
      "Cover Drive\n",
      "\n",
      "On Drive\n",
      "\n",
      "Square Drive\n",
      "\n",
      "Forward Defence\n",
      "\n",
      "Sweep\n",
      "\n",
      "Reverse Sweep\n",
      "\n",
      "Front Foot Leg Glance\n",
      "\n",
      "Back Foot Drive\n",
      "\n",
      "Back Foot Defence\n",
      "\n",
      "Square Cut\n",
      "\n",
      "Pull Shot\n",
      "\n",
      "Hook Shot\n",
      "\n",
      "Back Foot Leg Glance\n",
      "\n",
      "Uppercut\n",
      "\n",
      "Ramp Shot\n",
      "\n",
      "Switch Hit\n"
     ]
    }
   ],
   "source": [
    "with open(\"cricket_shots.txt\", \"r\") as ifile:\n",
    "    for line in ifile:\n",
    "        print (line)"
   ]
  },
  {
   "cell_type": "code",
   "execution_count": null,
   "metadata": {},
   "outputs": [],
   "source": [
    "if not os.path.exists(newpath):\n",
    "    os.makedirs(newpath)"
   ]
  }
 ],
 "metadata": {
  "kernelspec": {
   "display_name": "Python 3",
   "language": "python",
   "name": "python3"
  },
  "language_info": {
   "codemirror_mode": {
    "name": "ipython",
    "version": 3
   },
   "file_extension": ".py",
   "mimetype": "text/x-python",
   "name": "python",
   "nbconvert_exporter": "python",
   "pygments_lexer": "ipython3",
   "version": "3.7.4"
  }
 },
 "nbformat": 4,
 "nbformat_minor": 2
}
